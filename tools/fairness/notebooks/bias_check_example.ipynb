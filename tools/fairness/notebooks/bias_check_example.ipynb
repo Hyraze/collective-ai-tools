{
  "cells": [
    {
      "cell_type": "markdown",
      "metadata": {},
      "source": [
        "# Bias Check – Quickstart\n",
        "\n",
        "This notebook demonstrates how to use the `BiasReport` tool on a small sample dataset."
      ]
    },
    {
      "cell_type": "code",
      "execution_count": null,
      "metadata": {},
      "outputs": [],
      "source": [
        "import pandas as pd\n",
        "from tools.fairness import BiasReport\n",
        "\n",
        "# Load the sample CSV\n",
        "df = pd.read_csv(\"../examples/adult_small.csv\")\n",
        "df.head()"
      ]
    },
    {
      "cell_type": "code",
      "execution_count": null,
      "metadata": {},
      "outputs": [],
      "source": [
        "# Run the bias check\n",
        "report = BiasReport.from_arrays(\n",
        "    y_true=df[\"label\"],\n",
        "    y_pred=df[\"y_pred\"],\n",
        "    sensitive=df[\"sex\"],\n",
        "    positive_label=1,\n",
        ")\n",
        "\n",
        "print(report.to_pretty())"
      ]
    },
    {
      "cell_type": "code",
      "execution_count": null,
      "metadata": {},
      "outputs": [],
      "source": [
        "# Get JSON output (for CI pipelines or further processing)\n",
        "print(report.to_json())"
      ]
    }
  ],
  "metadata": {
    "kernelspec": {
      "display_name": "Python 3",
      "language": "python",
      "name": "python3"
    },
    "language_info": {
      "name": "python",
      "version": "3.x"
    }
  },
  "nbformat": 4,
  "nbformat_minor": 5
}
